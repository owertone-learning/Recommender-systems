{
 "cells": [
  {
   "cell_type": "markdown",
   "id": "4875ce90",
   "metadata": {},
   "source": [
    "# Домашнее задание №1"
   ]
  },
  {
   "cell_type": "code",
   "execution_count": 1,
   "id": "125b8988",
   "metadata": {},
   "outputs": [],
   "source": [
    "import pandas as pd\n",
    "import numpy as np"
   ]
  },
  {
   "cell_type": "code",
   "execution_count": 105,
   "id": "33bf90a7",
   "metadata": {},
   "outputs": [],
   "source": [
    "recommended_list = [143, 156, 1134, 991, 27, 1543, 3345, 533, 11, 43] #id товаров\n",
    "bought_list = [521, 32, 143, 991]\n",
    "prices_recommended = [400, 60, 40, 40, 90, 250, 112, 323, 54, 152]\n",
    "prices_bought = [123, 54, 400, 40]"
   ]
  },
  {
   "cell_type": "markdown",
   "id": "8e9e8d70",
   "metadata": {},
   "source": [
    "### Задание 1. Реализовать метрики Recall@k и  Money Recall@k\n",
    "\n",
    "*Recall* - доля рекомендованных товаров среди релевантных = Какой % купленных товаров был среди рекомендованных\n",
    "\n",
    "$$\\Large Recall@K(i) = \\frac {\\sum_{j=1}^{K}\\mathbb{1}_{r_{ij}}}{|Rel_i|}$$\n",
    "\n",
    "$\\Large |Rel_i|$ -- количество релевантных товаров для пользователя $i$\n",
    "\n",
    "$$\\Large MoneyRecall@K(i) = \\frac {\\sum_{j=1}^{K}\\mathbb{1}_{r_{ij}}\\cdot Price(j)}{\\sum_{s\\in Rel_i}Price(s)}$$\n"
   ]
  },
  {
   "cell_type": "code",
   "execution_count": 73,
   "id": "01c5134c",
   "metadata": {},
   "outputs": [],
   "source": [
    "def recall_at_k(recommended_list, bought_list, k=5):\n",
    "    bought_list = np.array(bought_list)\n",
    "    recommended_list = np.array(recommended_list)\n",
    "    \n",
    "    #TODO: Ваш код здесь\n",
    "    flags = np.isin(recommended_list, bought_list)\n",
    "    recall_atk = float(np.sum(flags[:k])) / len(set(bought_list)) \n",
    "    \n",
    "    return recall_atk\n",
    "\n",
    "def money_recall_at_k(recommended_list, bought_list, prices_recommended, prices_bought, k=5):\n",
    "    bought_list = np.array(bought_list)\n",
    "    recommended_list = np.array(recommended_list)\n",
    "    prices_recommended = np.array(prices_recommended)\n",
    "    prices_bought = np.array(prices_bought)\n",
    "    \n",
    "    #TODO: Ваш код здесь\n",
    "\n",
    "    flags = np.isin(recommended_list, bought_list)\n",
    "    if sum(flags) == 0:\n",
    "        return 0\n",
    "    sum_ = 0\n",
    "    for i in range(k):\n",
    "        if flags[i] == True:\n",
    "            sum_ += prices_recommended[i]\n",
    "            \n",
    "    prices_bought_all = np.sum(prices_bought)\n",
    "    money_recall_atk = sum_ / prices_bought_all\n",
    "\n",
    "    return money_recall_atk"
   ]
  },
  {
   "cell_type": "code",
   "execution_count": 76,
   "id": "8815abb5",
   "metadata": {},
   "outputs": [
    {
     "name": "stdout",
     "output_type": "stream",
     "text": [
      "𝑅𝑒𝑐𝑎𝑙𝑙@𝐾(𝑖): 0.5\n",
      "𝑀𝑜𝑛𝑒𝑦𝑅𝑒𝑐𝑎𝑙𝑙@𝐾(𝑖): 0.713128038897893\n"
     ]
    }
   ],
   "source": [
    "print(f'𝑅𝑒𝑐𝑎𝑙𝑙@𝐾(𝑖): {recall_at_k(recommended_list, bought_list)}')\n",
    "print(f'𝑀𝑜𝑛𝑒𝑦𝑅𝑒𝑐𝑎𝑙𝑙@𝐾(𝑖): {money_recall_at_k(recommended_list, bought_list, prices_recommended, prices_bought)}')"
   ]
  },
  {
   "cell_type": "markdown",
   "id": "1ca5cc76",
   "metadata": {},
   "source": [
    "### Задание 2. Реализовать метрику MRR@k\n",
    "\n",
    "Mean Reciprocal Rank\n",
    "\n",
    "- Считаем для первых k рекоммендаций\n",
    "- Найти ранк первого релевантного предсказания $\\Large rank_j$\n",
    "- Посчитать reciprocal rank = $\\Large\\frac{1}{rank_j}$\n",
    "\n",
    "$$\\Large  MMR(i)@k=\\frac {1}{\\min\\limits_{j\\in Rel(i)} rank_j}$$"
   ]
  },
  {
   "cell_type": "code",
   "execution_count": 125,
   "id": "258e7e5d",
   "metadata": {},
   "outputs": [],
   "source": [
    "def mrr_at_k(recommended_list, bought_list, k=5):\n",
    "    recommended_list = np.array(recommended_list)\n",
    "    bought_list = np.array(bought_list)\n",
    "    recommended_list = recommended_list[:k]\n",
    "    flags = np.isin(recommended_list, bought_list)\n",
    "    ranks = np.zeros(k)\n",
    "    for i in range(k):\n",
    "        if flags[i]:\n",
    "            m_rank = np.where(recommended_list == bought_list[i])[0]\n",
    "            if len(m_rank) > 0:\n",
    "                ranks[i] = 1 / (m_rank[0] + 1)\n",
    "\n",
    "    mrr_atk = np.mean(ranks)\n",
    "    return mrr_atk"
   ]
  },
  {
   "cell_type": "code",
   "execution_count": 127,
   "id": "8f2654e6",
   "metadata": {},
   "outputs": [
    {
     "name": "stdout",
     "output_type": "stream",
     "text": [
      "𝑀𝑀𝑅(𝑖)@𝑘: 0.05\n"
     ]
    }
   ],
   "source": [
    "print(f'𝑀𝑀𝑅(𝑖)@𝑘: {mrr_at_k(recommended_list, bought_list)}')"
   ]
  },
  {
   "cell_type": "markdown",
   "id": "0a916a53",
   "metadata": {},
   "source": [
    "### Задание 3*. Реализовать метрику nDCG@k\n",
    "Normalized discounted cumulative gain. Эту метрику реализовать будет немного сложнее.\n",
    "\n",
    "$$\\Large DCG@K(i) = \\sum_{j=1}^{K}\\frac{\\mathbb{1}_{r_{ij}}}{\\log_2 (j+1)}$$\n",
    "\n",
    "\n",
    "$\\Large \\mathbb{1}_{r_{ij}}$ -- индикаторная функция показывает что пользователь $i$ провзаимодействовал с продуктом $j$\n",
    "\n",
    "Для подсчета $nDCG$ нам необходимо найти максимально возможный $DCG$ для пользователя $i$  и рекомендаций длины $K$.\n",
    "Максимальный $DCG$ достигается когда мы порекомендовали максимально возможное количество релевантных продуктов и все они в начале списка рекомендаций.\n",
    "\n",
    "$$\\Large IDCG@K(i) = max(DCG@K(i)) = \\sum_{j=1}^{K}\\frac{\\mathbb{1}_{j\\le|Rel_i|}}{\\log_2 (j+1)}$$\n",
    "\n",
    "$$\\Large nDCG@K(i) = \\frac {DCG@K(i)}{IDCG@K(i)}$$\n",
    "\n",
    "$\\Large |Rel_i|$ -- количество релевантных продуктов для пользователя $i$\n",
    "\n"
   ]
  },
  {
   "cell_type": "code",
   "execution_count": 133,
   "id": "4a9864cf",
   "metadata": {},
   "outputs": [],
   "source": [
    "def ndcg_at_k(recommended_list, bought_list, k=5):\n",
    "    bought_list = np.array(bought_list)\n",
    "    recommended_list = np.array(recommended_list)\n",
    "    \n",
    "    #TODO: Ваш код здесь\n",
    "    \n",
    "    recommended_list = recommended_list[:k]\n",
    "    flags = np.isin(recommended_list, bought_list)\n",
    "    \n",
    "    #𝐷𝐶𝐺@𝐾(𝑖)\n",
    "    dcg = np.sum(flags / np.log2(np.arange(2, flags.size + 2)))\n",
    "    \n",
    "    #𝐷𝐶𝐺@𝐾(𝑖)\n",
    "    ideal_flags = np.ones_like(flags)\n",
    "    idcg = np.sum(ideal_flags / np.log2(np.arange(2, flags.size + 2)))\n",
    "    \n",
    "    # 𝑛𝐷𝐶𝐺@𝐾(𝑖)\n",
    "    ndcg = dcg / idcg\n",
    "    \n",
    "    return ndcg"
   ]
  },
  {
   "cell_type": "code",
   "execution_count": 134,
   "id": "5fb13f8c",
   "metadata": {},
   "outputs": [
    {
     "name": "stdout",
     "output_type": "stream",
     "text": [
      "𝑛𝐷𝐶𝐺@𝐾(𝑖): 0.48522855511632257\n"
     ]
    }
   ],
   "source": [
    "print(f'𝑛𝐷𝐶𝐺@𝐾(𝑖): {ndcg_at_k(recommended_list, bought_list)}')"
   ]
  }
 ],
 "metadata": {
  "kernelspec": {
   "display_name": "Python 3 (ipykernel)",
   "language": "python",
   "name": "python3"
  },
  "language_info": {
   "codemirror_mode": {
    "name": "ipython",
    "version": 3
   },
   "file_extension": ".py",
   "mimetype": "text/x-python",
   "name": "python",
   "nbconvert_exporter": "python",
   "pygments_lexer": "ipython3",
   "version": "3.9.13"
  }
 },
 "nbformat": 4,
 "nbformat_minor": 5
}
