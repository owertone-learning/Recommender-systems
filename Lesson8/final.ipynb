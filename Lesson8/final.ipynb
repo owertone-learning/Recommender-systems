{
 "cells": [
  {
   "cell_type": "markdown",
   "id": "29a0cc8a",
   "metadata": {},
   "source": [
    "# Рекомендательные системы"
   ]
  },
  {
   "cell_type": "markdown",
   "id": "b6100a9e",
   "metadata": {},
   "source": [
    "- Целевая метрика precision@5 >=0.2\n",
    "- Бейзлайн решения - MainRecommender\n",
    "- На github должен быть файл recommendations.csv (user_id | [rec_1, rec_2, ...] с рекомендациями. rec_i - реальные id item-ов (из retail_train.csv)"
   ]
  },
  {
   "cell_type": "markdown",
   "id": "6e6b3428",
   "metadata": {},
   "source": [
    "### Подключение библиотек"
   ]
  },
  {
   "cell_type": "code",
   "execution_count": 80,
   "id": "3cb204a4",
   "metadata": {},
   "outputs": [],
   "source": [
    "import pandas as pd\n",
    "import numpy as np\n",
    "import pickle\n",
    "\n",
    "import matplotlib.pyplot as plt\n",
    "%matplotlib inline\n",
    "\n",
    "import lightgbm as lgb\n",
    "from catboost import CatBoostClassifier, Pool\n",
    "from sklearn.model_selection import train_test_split\n",
    "from sklearn.metrics import roc_auc_score\n",
    "\n",
    "# Для работы с матрицами\n",
    "from scipy.sparse import csr_matrix\n",
    "from implicit import als\n",
    "\n",
    "# Матричная факторизация\n",
    "from implicit.als import AlternatingLeastSquares\n",
    "from implicit.nearest_neighbours import bm25_weight, tfidf_weight\n",
    "from implicit.nearest_neighbours import ItemItemRecommender  # нужен для одного трюка\n",
    "\n",
    "# Функции из 1-ого вебинара\n",
    "import os, sys\n",
    "\n",
    "module_path = os.path.abspath(os.path.join(os.pardir))\n",
    "if module_path not in sys.path:\n",
    "    sys.path.append(module_path)\n",
    "    \n",
    "from src.metrics import precision_at_k, recall_at_k\n",
    "from src.utils import pre_filter_items\n",
    "#from src.recommenders import MainRecommender\n",
    "\n",
    "import warnings\n",
    "warnings.filterwarnings('ignore')"
   ]
  },
  {
   "cell_type": "markdown",
   "id": "3485fc15",
   "metadata": {},
   "source": [
    "### Загрузка данных"
   ]
  },
  {
   "cell_type": "code",
   "execution_count": 81,
   "id": "5c04074d",
   "metadata": {},
   "outputs": [
    {
     "data": {
      "text/html": [
       "<div>\n",
       "<style scoped>\n",
       "    .dataframe tbody tr th:only-of-type {\n",
       "        vertical-align: middle;\n",
       "    }\n",
       "\n",
       "    .dataframe tbody tr th {\n",
       "        vertical-align: top;\n",
       "    }\n",
       "\n",
       "    .dataframe thead th {\n",
       "        text-align: right;\n",
       "    }\n",
       "</style>\n",
       "<table border=\"1\" class=\"dataframe\">\n",
       "  <thead>\n",
       "    <tr style=\"text-align: right;\">\n",
       "      <th></th>\n",
       "      <th>user_id</th>\n",
       "      <th>basket_id</th>\n",
       "      <th>day</th>\n",
       "      <th>item_id</th>\n",
       "      <th>quantity</th>\n",
       "      <th>sales_value</th>\n",
       "      <th>store_id</th>\n",
       "      <th>retail_disc</th>\n",
       "      <th>trans_time</th>\n",
       "      <th>week_no</th>\n",
       "      <th>coupon_disc</th>\n",
       "      <th>coupon_match_disc</th>\n",
       "    </tr>\n",
       "  </thead>\n",
       "  <tbody>\n",
       "    <tr>\n",
       "      <th>0</th>\n",
       "      <td>2375</td>\n",
       "      <td>26984851472</td>\n",
       "      <td>1</td>\n",
       "      <td>1004906</td>\n",
       "      <td>1</td>\n",
       "      <td>1.39</td>\n",
       "      <td>364</td>\n",
       "      <td>-0.6</td>\n",
       "      <td>1631</td>\n",
       "      <td>1</td>\n",
       "      <td>0.0</td>\n",
       "      <td>0.0</td>\n",
       "    </tr>\n",
       "    <tr>\n",
       "      <th>1</th>\n",
       "      <td>2375</td>\n",
       "      <td>26984851472</td>\n",
       "      <td>1</td>\n",
       "      <td>1033142</td>\n",
       "      <td>1</td>\n",
       "      <td>0.82</td>\n",
       "      <td>364</td>\n",
       "      <td>0.0</td>\n",
       "      <td>1631</td>\n",
       "      <td>1</td>\n",
       "      <td>0.0</td>\n",
       "      <td>0.0</td>\n",
       "    </tr>\n",
       "  </tbody>\n",
       "</table>\n",
       "</div>"
      ],
      "text/plain": [
       "   user_id    basket_id  day  item_id  quantity  sales_value  store_id  \\\n",
       "0     2375  26984851472    1  1004906         1         1.39       364   \n",
       "1     2375  26984851472    1  1033142         1         0.82       364   \n",
       "\n",
       "   retail_disc  trans_time  week_no  coupon_disc  coupon_match_disc  \n",
       "0         -0.6        1631        1          0.0                0.0  \n",
       "1          0.0        1631        1          0.0                0.0  "
      ]
     },
     "execution_count": 81,
     "metadata": {},
     "output_type": "execute_result"
    }
   ],
   "source": [
    "data = pd.read_csv('./data/retail_train.csv')\n",
    "data.head(2)"
   ]
  },
  {
   "cell_type": "code",
   "execution_count": 82,
   "id": "868b2d81",
   "metadata": {},
   "outputs": [
    {
     "data": {
      "text/html": [
       "<div>\n",
       "<style scoped>\n",
       "    .dataframe tbody tr th:only-of-type {\n",
       "        vertical-align: middle;\n",
       "    }\n",
       "\n",
       "    .dataframe tbody tr th {\n",
       "        vertical-align: top;\n",
       "    }\n",
       "\n",
       "    .dataframe thead th {\n",
       "        text-align: right;\n",
       "    }\n",
       "</style>\n",
       "<table border=\"1\" class=\"dataframe\">\n",
       "  <thead>\n",
       "    <tr style=\"text-align: right;\">\n",
       "      <th></th>\n",
       "      <th>user_id</th>\n",
       "      <th>basket_id</th>\n",
       "      <th>day</th>\n",
       "      <th>item_id</th>\n",
       "      <th>quantity</th>\n",
       "      <th>sales_value</th>\n",
       "      <th>store_id</th>\n",
       "      <th>retail_disc</th>\n",
       "      <th>trans_time</th>\n",
       "      <th>week_no</th>\n",
       "      <th>coupon_disc</th>\n",
       "      <th>coupon_match_disc</th>\n",
       "    </tr>\n",
       "  </thead>\n",
       "  <tbody>\n",
       "    <tr>\n",
       "      <th>0</th>\n",
       "      <td>1340</td>\n",
       "      <td>41652823310</td>\n",
       "      <td>664</td>\n",
       "      <td>912987</td>\n",
       "      <td>1</td>\n",
       "      <td>8.49</td>\n",
       "      <td>446</td>\n",
       "      <td>0.0</td>\n",
       "      <td>52</td>\n",
       "      <td>96</td>\n",
       "      <td>0.0</td>\n",
       "      <td>0.0</td>\n",
       "    </tr>\n",
       "    <tr>\n",
       "      <th>1</th>\n",
       "      <td>588</td>\n",
       "      <td>41652838477</td>\n",
       "      <td>664</td>\n",
       "      <td>1024426</td>\n",
       "      <td>1</td>\n",
       "      <td>6.29</td>\n",
       "      <td>388</td>\n",
       "      <td>0.0</td>\n",
       "      <td>8</td>\n",
       "      <td>96</td>\n",
       "      <td>0.0</td>\n",
       "      <td>0.0</td>\n",
       "    </tr>\n",
       "  </tbody>\n",
       "</table>\n",
       "</div>"
      ],
      "text/plain": [
       "   user_id    basket_id  day  item_id  quantity  sales_value  store_id  \\\n",
       "0     1340  41652823310  664   912987         1         8.49       446   \n",
       "1      588  41652838477  664  1024426         1         6.29       388   \n",
       "\n",
       "   retail_disc  trans_time  week_no  coupon_disc  coupon_match_disc  \n",
       "0          0.0          52       96          0.0                0.0  \n",
       "1          0.0           8       96          0.0                0.0  "
      ]
     },
     "execution_count": 82,
     "metadata": {},
     "output_type": "execute_result"
    }
   ],
   "source": [
    "test = pd.read_csv('./data/retail_test1.csv')\n",
    "test.head(2)"
   ]
  },
  {
   "cell_type": "code",
   "execution_count": 83,
   "id": "a98d35e3",
   "metadata": {},
   "outputs": [],
   "source": [
    "item_features = pd.read_csv('./data/product.csv')\n",
    "item_features.columns = [col.lower() for col in item_features.columns]\n",
    "item_features.rename(columns={'product_id': 'item_id'}, inplace=True)"
   ]
  },
  {
   "cell_type": "code",
   "execution_count": 84,
   "id": "b4c57301",
   "metadata": {},
   "outputs": [
    {
     "data": {
      "text/html": [
       "<div>\n",
       "<style scoped>\n",
       "    .dataframe tbody tr th:only-of-type {\n",
       "        vertical-align: middle;\n",
       "    }\n",
       "\n",
       "    .dataframe tbody tr th {\n",
       "        vertical-align: top;\n",
       "    }\n",
       "\n",
       "    .dataframe thead th {\n",
       "        text-align: right;\n",
       "    }\n",
       "</style>\n",
       "<table border=\"1\" class=\"dataframe\">\n",
       "  <thead>\n",
       "    <tr style=\"text-align: right;\">\n",
       "      <th></th>\n",
       "      <th>item_id</th>\n",
       "      <th>manufacturer</th>\n",
       "      <th>department</th>\n",
       "      <th>brand</th>\n",
       "      <th>commodity_desc</th>\n",
       "      <th>sub_commodity_desc</th>\n",
       "      <th>curr_size_of_product</th>\n",
       "    </tr>\n",
       "  </thead>\n",
       "  <tbody>\n",
       "    <tr>\n",
       "      <th>0</th>\n",
       "      <td>25671</td>\n",
       "      <td>2</td>\n",
       "      <td>GROCERY</td>\n",
       "      <td>National</td>\n",
       "      <td>FRZN ICE</td>\n",
       "      <td>ICE - CRUSHED/CUBED</td>\n",
       "      <td>22 LB</td>\n",
       "    </tr>\n",
       "    <tr>\n",
       "      <th>1</th>\n",
       "      <td>26081</td>\n",
       "      <td>2</td>\n",
       "      <td>MISC. TRANS.</td>\n",
       "      <td>National</td>\n",
       "      <td>NO COMMODITY DESCRIPTION</td>\n",
       "      <td>NO SUBCOMMODITY DESCRIPTION</td>\n",
       "      <td></td>\n",
       "    </tr>\n",
       "  </tbody>\n",
       "</table>\n",
       "</div>"
      ],
      "text/plain": [
       "   item_id  manufacturer    department     brand            commodity_desc  \\\n",
       "0    25671             2       GROCERY  National                  FRZN ICE   \n",
       "1    26081             2  MISC. TRANS.  National  NO COMMODITY DESCRIPTION   \n",
       "\n",
       "            sub_commodity_desc curr_size_of_product  \n",
       "0          ICE - CRUSHED/CUBED                22 LB  \n",
       "1  NO SUBCOMMODITY DESCRIPTION                       "
      ]
     },
     "execution_count": 84,
     "metadata": {},
     "output_type": "execute_result"
    }
   ],
   "source": [
    "item_features.head(2)"
   ]
  },
  {
   "cell_type": "code",
   "execution_count": 85,
   "id": "f16b91ed",
   "metadata": {},
   "outputs": [],
   "source": [
    "user_features = pd.read_csv('./data/hh_demographic.csv')\n",
    "user_features.columns = [col.lower() for col in user_features.columns]\n",
    "user_features.rename(columns={'household_key': 'user_id'}, inplace=True)"
   ]
  },
  {
   "cell_type": "code",
   "execution_count": 86,
   "id": "bfd2e485",
   "metadata": {},
   "outputs": [
    {
     "data": {
      "text/html": [
       "<div>\n",
       "<style scoped>\n",
       "    .dataframe tbody tr th:only-of-type {\n",
       "        vertical-align: middle;\n",
       "    }\n",
       "\n",
       "    .dataframe tbody tr th {\n",
       "        vertical-align: top;\n",
       "    }\n",
       "\n",
       "    .dataframe thead th {\n",
       "        text-align: right;\n",
       "    }\n",
       "</style>\n",
       "<table border=\"1\" class=\"dataframe\">\n",
       "  <thead>\n",
       "    <tr style=\"text-align: right;\">\n",
       "      <th></th>\n",
       "      <th>age_desc</th>\n",
       "      <th>marital_status_code</th>\n",
       "      <th>income_desc</th>\n",
       "      <th>homeowner_desc</th>\n",
       "      <th>hh_comp_desc</th>\n",
       "      <th>household_size_desc</th>\n",
       "      <th>kid_category_desc</th>\n",
       "      <th>user_id</th>\n",
       "    </tr>\n",
       "  </thead>\n",
       "  <tbody>\n",
       "    <tr>\n",
       "      <th>0</th>\n",
       "      <td>65+</td>\n",
       "      <td>A</td>\n",
       "      <td>35-49K</td>\n",
       "      <td>Homeowner</td>\n",
       "      <td>2 Adults No Kids</td>\n",
       "      <td>2</td>\n",
       "      <td>None/Unknown</td>\n",
       "      <td>1</td>\n",
       "    </tr>\n",
       "    <tr>\n",
       "      <th>1</th>\n",
       "      <td>45-54</td>\n",
       "      <td>A</td>\n",
       "      <td>50-74K</td>\n",
       "      <td>Homeowner</td>\n",
       "      <td>2 Adults No Kids</td>\n",
       "      <td>2</td>\n",
       "      <td>None/Unknown</td>\n",
       "      <td>7</td>\n",
       "    </tr>\n",
       "  </tbody>\n",
       "</table>\n",
       "</div>"
      ],
      "text/plain": [
       "  age_desc marital_status_code income_desc homeowner_desc      hh_comp_desc  \\\n",
       "0      65+                   A      35-49K      Homeowner  2 Adults No Kids   \n",
       "1    45-54                   A      50-74K      Homeowner  2 Adults No Kids   \n",
       "\n",
       "  household_size_desc kid_category_desc  user_id  \n",
       "0                   2      None/Unknown        1  \n",
       "1                   2      None/Unknown        7  "
      ]
     },
     "execution_count": 86,
     "metadata": {},
     "output_type": "execute_result"
    }
   ],
   "source": [
    "user_features.head(2)"
   ]
  },
  {
   "cell_type": "markdown",
   "id": "7d691b2d",
   "metadata": {},
   "source": [
    "### Схема обучения и валидации:\n",
    "* давние покупки | 6 недель | 3 недели "
   ]
  },
  {
   "cell_type": "code",
   "execution_count": 87,
   "id": "810e4eec",
   "metadata": {},
   "outputs": [],
   "source": [
    "val_lvl_1_size_weeks = 6\n",
    "val_lvl_2_size_weeks = 3\n",
    "\n",
    "data_train_lvl_1 = data[data['week_no'] < data['week_no'].max() - (val_lvl_1_size_weeks + val_lvl_2_size_weeks)]\n",
    "data_val_lvl_1 = data[(data['week_no'] >= data['week_no'].max() - (val_lvl_1_size_weeks + val_lvl_2_size_weeks)) &\n",
    "                      (data['week_no'] < data['week_no'].max() - (val_lvl_2_size_weeks))]\n",
    "\n",
    "data_train_lvl_2 = data_val_lvl_1.copy()  # Для наглядности. Далее мы добавим изменения, и они будут отличаться\n",
    "data_val_lvl_2 = data[data['week_no'] >= data['week_no'].max() - val_lvl_2_size_weeks]"
   ]
  },
  {
   "cell_type": "code",
   "execution_count": 88,
   "id": "97a8775d",
   "metadata": {},
   "outputs": [
    {
     "data": {
      "text/plain": [
       "([1984], [], 126)"
      ]
     },
     "execution_count": 88,
     "metadata": {},
     "output_type": "execute_result"
    }
   ],
   "source": [
    "users_lvl_1 = data_train_lvl_1.user_id.unique()\n",
    "users_lvl_2 = data_val_lvl_1.user_id.unique()\n",
    "users_lvl_3 = data_val_lvl_2.user_id.unique()\n",
    "\n",
    "new_users_lvl_2 = list(set(users_lvl_2) - set(users_lvl_1))\n",
    "new_users_lvl_3 = list(set(users_lvl_3) - (set(users_lvl_1) | set(users_lvl_2)))\n",
    "\n",
    "add_to_lvl_2 = list(set(users_lvl_3) - (set(users_lvl_2)))\n",
    "\n",
    "new_users_lvl_2, new_users_lvl_3, len(add_to_lvl_2)"
   ]
  },
  {
   "cell_type": "markdown",
   "id": "032c4124",
   "metadata": {},
   "source": [
    "#### Уменьшение размерности до top 5000"
   ]
  },
  {
   "cell_type": "code",
   "execution_count": 89,
   "id": "78235b1c",
   "metadata": {},
   "outputs": [
    {
     "name": "stdout",
     "output_type": "stream",
     "text": [
      "Decreased # items from 83685 to 5001\n"
     ]
    }
   ],
   "source": [
    "n_items_before = data_train_lvl_1['item_id'].nunique()\n",
    "data_train_lvl_1 = pre_filter_items(data_train_lvl_1, item_features=item_features, take_n_popular=5000)\n",
    "n_items_after = data_train_lvl_1['item_id'].nunique()\n",
    "print('Decreased # items from {} to {}'.format(n_items_before, n_items_after))"
   ]
  },
  {
   "cell_type": "markdown",
   "id": "772eb107",
   "metadata": {},
   "source": [
    "### Генерация  признаков для модели"
   ]
  },
  {
   "cell_type": "markdown",
   "id": "aab08f1a",
   "metadata": {},
   "source": [
    "#### Пользовательские признаки"
   ]
  },
  {
   "cell_type": "code",
   "execution_count": 90,
   "id": "fdfb6bc5",
   "metadata": {},
   "outputs": [
    {
     "data": {
      "text/html": [
       "<div>\n",
       "<style scoped>\n",
       "    .dataframe tbody tr th:only-of-type {\n",
       "        vertical-align: middle;\n",
       "    }\n",
       "\n",
       "    .dataframe tbody tr th {\n",
       "        vertical-align: top;\n",
       "    }\n",
       "\n",
       "    .dataframe thead th {\n",
       "        text-align: right;\n",
       "    }\n",
       "</style>\n",
       "<table border=\"1\" class=\"dataframe\">\n",
       "  <thead>\n",
       "    <tr style=\"text-align: right;\">\n",
       "      <th></th>\n",
       "      <th>age_desc</th>\n",
       "      <th>marital_status_code</th>\n",
       "      <th>income_desc</th>\n",
       "      <th>homeowner_desc</th>\n",
       "      <th>hh_comp_desc</th>\n",
       "      <th>household_size_desc</th>\n",
       "      <th>kid_category_desc</th>\n",
       "      <th>user_id</th>\n",
       "    </tr>\n",
       "  </thead>\n",
       "  <tbody>\n",
       "    <tr>\n",
       "      <th>0</th>\n",
       "      <td>70</td>\n",
       "      <td>1</td>\n",
       "      <td>40</td>\n",
       "      <td>4</td>\n",
       "      <td>4</td>\n",
       "      <td>2</td>\n",
       "      <td>0</td>\n",
       "      <td>1</td>\n",
       "    </tr>\n",
       "    <tr>\n",
       "      <th>1</th>\n",
       "      <td>50</td>\n",
       "      <td>1</td>\n",
       "      <td>62</td>\n",
       "      <td>4</td>\n",
       "      <td>4</td>\n",
       "      <td>2</td>\n",
       "      <td>0</td>\n",
       "      <td>7</td>\n",
       "    </tr>\n",
       "  </tbody>\n",
       "</table>\n",
       "</div>"
      ],
      "text/plain": [
       "   age_desc  marital_status_code  income_desc  homeowner_desc  hh_comp_desc  \\\n",
       "0        70                    1           40               4             4   \n",
       "1        50                    1           62               4             4   \n",
       "\n",
       "  household_size_desc kid_category_desc  user_id  \n",
       "0                   2                 0        1  \n",
       "1                   2                 0        7  "
      ]
     },
     "execution_count": 90,
     "metadata": {},
     "output_type": "execute_result"
    }
   ],
   "source": [
    "user_features['age_desc'].replace(\n",
    "    {'19-24': 22, '25-34': 30, '35-44': 40, '45-54': 50, '55-64': 60, '65+': 70},\n",
    "    inplace=True)\n",
    "\n",
    "user_features['marital_status_code'].replace(\n",
    "    {'U': 0, 'A': 1, 'B': 2}, inplace=True)\n",
    "\n",
    "user_features['income_desc'].replace(\n",
    "    {'Under 15K': 10, '15-24K': 20, '25-34K':30, '35-49K': 40,\n",
    "     '50-74K': 62, '75-99K': 87, '100-124K': 112, '125-149K': 137, \n",
    "     '150-174K': 162, '175-199K': 187, '200-249K': 225, '250K+':275}, inplace=True)\n",
    "\n",
    "user_features['homeowner_desc'].replace(\n",
    "    {'Unknown': 0, 'Probable Renter': 1, 'Renter': 2,\n",
    "     'Probable Owner': 3, 'Homeowner': 4}, inplace=True)\n",
    "\n",
    "user_features['hh_comp_desc'].replace(\n",
    "    {'Unknown': 0, 'Single Male': 1, 'Single Female': 2,\n",
    "     '1 Adult Kids': 3, '2 Adults No Kids': 4, '2 Adults Kids':5},inplace=True)\n",
    "\n",
    "user_features['household_size_desc'].replace({'5+': 5}, inplace=True) \n",
    "\n",
    "user_features['kid_category_desc'].replace(\n",
    "    {'None/Unknown': 0, '3+': 3}, inplace=True)\n",
    "\n",
    "user_features.head(2)"
   ]
  },
  {
   "cell_type": "markdown",
   "id": "be396f80",
   "metadata": {},
   "source": [
    "#### Товарные признаки"
   ]
  },
  {
   "cell_type": "code",
   "execution_count": 91,
   "id": "ea0631f6",
   "metadata": {},
   "outputs": [
    {
     "data": {
      "text/html": [
       "<div>\n",
       "<style scoped>\n",
       "    .dataframe tbody tr th:only-of-type {\n",
       "        vertical-align: middle;\n",
       "    }\n",
       "\n",
       "    .dataframe tbody tr th {\n",
       "        vertical-align: top;\n",
       "    }\n",
       "\n",
       "    .dataframe thead th {\n",
       "        text-align: right;\n",
       "    }\n",
       "</style>\n",
       "<table border=\"1\" class=\"dataframe\">\n",
       "  <thead>\n",
       "    <tr style=\"text-align: right;\">\n",
       "      <th></th>\n",
       "      <th>item_id</th>\n",
       "      <th>manufacturer</th>\n",
       "      <th>department</th>\n",
       "      <th>brand</th>\n",
       "      <th>commodity_desc</th>\n",
       "      <th>sub_commodity_desc</th>\n",
       "      <th>curr_size_of_product</th>\n",
       "      <th>manufacturer_freq</th>\n",
       "      <th>department_freq</th>\n",
       "      <th>commodity_desc_freq</th>\n",
       "      <th>sub_commodity_desc_freq</th>\n",
       "      <th>curr_size_of_product_freq</th>\n",
       "      <th>commodity_category</th>\n",
       "    </tr>\n",
       "  </thead>\n",
       "  <tbody>\n",
       "    <tr>\n",
       "      <th>0</th>\n",
       "      <td>25671</td>\n",
       "      <td>2</td>\n",
       "      <td>GROCERY</td>\n",
       "      <td>1</td>\n",
       "      <td>FRZN ICE</td>\n",
       "      <td>ICE - CRUSHED/CUBED</td>\n",
       "      <td>22 LB</td>\n",
       "      <td>1411.0</td>\n",
       "      <td>39021.0</td>\n",
       "      <td>29.0</td>\n",
       "      <td>29.0</td>\n",
       "      <td>12.0</td>\n",
       "      <td>270.0</td>\n",
       "    </tr>\n",
       "    <tr>\n",
       "      <th>1</th>\n",
       "      <td>26081</td>\n",
       "      <td>2</td>\n",
       "      <td>MISC. TRANS.</td>\n",
       "      <td>1</td>\n",
       "      <td>NO COMMODITY DESCRIPTION</td>\n",
       "      <td>NO SUBCOMMODITY DESCRIPTION</td>\n",
       "      <td></td>\n",
       "      <td>1411.0</td>\n",
       "      <td>490.0</td>\n",
       "      <td>490.0</td>\n",
       "      <td>429.0</td>\n",
       "      <td>30607.0</td>\n",
       "      <td>56.0</td>\n",
       "    </tr>\n",
       "  </tbody>\n",
       "</table>\n",
       "</div>"
      ],
      "text/plain": [
       "   item_id  manufacturer    department  brand            commodity_desc  \\\n",
       "0    25671             2       GROCERY      1                  FRZN ICE   \n",
       "1    26081             2  MISC. TRANS.      1  NO COMMODITY DESCRIPTION   \n",
       "\n",
       "            sub_commodity_desc curr_size_of_product  manufacturer_freq  \\\n",
       "0          ICE - CRUSHED/CUBED                22 LB             1411.0   \n",
       "1  NO SUBCOMMODITY DESCRIPTION                                  1411.0   \n",
       "\n",
       "   department_freq  commodity_desc_freq  sub_commodity_desc_freq  \\\n",
       "0          39021.0                 29.0                     29.0   \n",
       "1            490.0                490.0                    429.0   \n",
       "\n",
       "   curr_size_of_product_freq  commodity_category  \n",
       "0                       12.0               270.0  \n",
       "1                    30607.0                56.0  "
      ]
     },
     "execution_count": 91,
     "metadata": {},
     "output_type": "execute_result"
    }
   ],
   "source": [
    "names = ['manufacturer', 'department', 'commodity_desc', 'sub_commodity_desc', 'curr_size_of_product']\n",
    "for name in names:\n",
    "    new_name = name + '_freq'\n",
    "    a = item_features[name].value_counts()\n",
    "    ind = a.index.tolist()\n",
    "    for i in ind:\n",
    "        item_features.loc[item_features[name] == i, new_name] = a[i]\n",
    "\n",
    "item_features['brand'] = np.where(item_features['brand']=='Private', 0, 1)\n",
    "\n",
    "commodities = item_features.commodity_desc.value_counts()\n",
    "commodities_list = commodities.keys().tolist()\n",
    "for i, name in enumerate(commodities_list):\n",
    "    item_features.loc[item_features['commodity_desc'] == name, 'commodity_category'] = i\n",
    "\n",
    "item_features.head(2)"
   ]
  },
  {
   "cell_type": "code",
   "execution_count": 92,
   "id": "b7f2c0ee",
   "metadata": {},
   "outputs": [],
   "source": [
    "def get_user_item_features(data_train_lvl_1):\n",
    "    # час совершения транзакции\n",
    "    X = data_train_lvl_1.copy()\n",
    "    X['hour'] = X['trans_time'] // 100\n",
    "    user_item_features = X.groupby(['user_id', 'item_id'])['hour'].median().reset_index()\n",
    "    user_item_features.columns = ['user_id', 'item_id', 'median_sales_hour']\n",
    "    \n",
    "    # день недели совершения транзакции\n",
    "    X['weekday'] = X['day'] % 7\n",
    "    df = X.groupby(['user_id', 'item_id'])['weekday'].median().reset_index()\n",
    "    df.columns = ['user_id', 'item_id', 'median_weekday']\n",
    "    user_item_features = user_item_features.merge(df, on=['user_id', 'item_id'])\n",
    "    \n",
    "    # cреднее кол-во дней между покупками\n",
    "    df = X.groupby('user_id')['day'].nunique().reset_index()\n",
    "    df['mean_visits_interval'] = (X.groupby('user_id')['day'].max() - X.groupby('user_id')['day'].min()) / df['day']\n",
    "    user_item_features = user_item_features.merge(df[['user_id', 'mean_visits_interval']], on=['user_id'])\n",
    "    \n",
    "    # средний чек корзины клиента\n",
    "    df = X.groupby(['user_id', 'basket_id'])['sales_value'].sum().reset_index()\n",
    "    df = df.groupby('user_id')['sales_value'].mean().reset_index()\n",
    "    df.columns = ['user_id', 'mean_check']\n",
    "    user_item_features = user_item_features.merge(df, on=['user_id'])\n",
    "    \n",
    "    # кол-во магазинов, в которых продавался товар\n",
    "    df = X.groupby(['item_id'])['store_id'].nunique().reset_index()\n",
    "    df.columns = ['item_id', 'n_stores']\n",
    "    user_item_features = user_item_features.merge(df, on=['item_id'])\n",
    "    \n",
    "    # кол-во уникальных товаров, купленных клиентом\n",
    "    df = X.groupby(['user_id'])['item_id'].nunique().reset_index()\n",
    "    df.columns = ['user_id', 'n_items']\n",
    "    user_item_features = user_item_features.merge(df, on=['user_id'])\n",
    "    \n",
    "    # кол-во транзакций клиента\n",
    "    df = X.groupby(['user_id'])['item_id'].count().reset_index()\n",
    "    df.columns = ['user_id', 'n_transactions']\n",
    "    user_item_features = user_item_features.merge(df, on=['user_id'])\n",
    "    \n",
    "    # mean / max / std кол-ва уникальных товаров в корзине клиента\n",
    "    df = X.groupby(['user_id', 'basket_id'])['item_id'].nunique().reset_index()\n",
    "    df1 = df.groupby('user_id')['item_id'].mean().reset_index()\n",
    "    df1.columns = ['user_id', 'mean_n_items_basket']\n",
    "    user_item_features = user_item_features.merge(df1, on=['user_id'])\n",
    "\n",
    "    df2 = df.groupby('user_id')['item_id'].max().reset_index()\n",
    "    df2.columns = ['user_id', 'max_n_items_basket']\n",
    "    user_item_features = user_item_features.merge(df2, on=['user_id'])\n",
    "\n",
    "    df3 = df.groupby('user_id')['item_id'].std().reset_index()\n",
    "    df3.columns = ['user_id', 'std_n_items_basket']\n",
    "    user_item_features = user_item_features.merge(df3, on=['user_id'])\n",
    "    \n",
    "    # mean / max / std кол-ва уникальных категорий в корзине клиента\n",
    "    X = X.merge(item_features[['item_id', 'commodity_desc']], on=['item_id'])\n",
    "    df = X.groupby(['user_id', 'basket_id'])['commodity_desc'].nunique().reset_index()\n",
    "    df1 = df.groupby('user_id')['commodity_desc'].mean().reset_index()\n",
    "    df1.columns = ['user_id', 'mean_n_item_categories_basket']\n",
    "    user_item_features = user_item_features.merge(df1, on=['user_id'])\n",
    "\n",
    "    df2 = df.groupby('user_id')['commodity_desc'].max().reset_index()\n",
    "    df2.columns = ['user_id', 'max_n_item_categories_basket']\n",
    "    user_item_features = user_item_features.merge(df2, on=['user_id'])\n",
    "\n",
    "    df3 = df.groupby('user_id')['commodity_desc'].std().reset_index()\n",
    "    df3.columns = ['user_id', 'std_n_item_categories_basket']\n",
    "    user_item_features = user_item_features.merge(df3, on=['user_id'])\n",
    "    \n",
    "    # эмбеддинги товаров\n",
    "    recommender = MainRecommender(X)\n",
    "    df = recommender.model.item_factors\n",
    "    n_factors = recommender.model.factors\n",
    "    ind = list(recommender.id_to_itemid.values())\n",
    "    df = pd.DataFrame(df, index=ind).reset_index()\n",
    "    df.columns = ['item_id'] + ['factor_' + str(i + 1) for i in range(n_factors)]\n",
    "    user_item_features = user_item_features.merge(df, on=['item_id'])\n",
    "    \n",
    "    # эмбеддинги пользователей\n",
    "    df = recommender.model.user_factors\n",
    "    ind = list(recommender.id_to_userid.values())\n",
    "    df = pd.DataFrame(df, index=ind).reset_index()\n",
    "    df.columns = ['user_id'] + ['user_factor_' + str(i + 1) for i in range(n_factors)]\n",
    "    user_item_features = user_item_features.merge(df, on=['user_id'])\n",
    "    \n",
    "    return user_item_features"
   ]
  },
  {
   "cell_type": "code",
   "execution_count": 93,
   "id": "bf987ae4",
   "metadata": {},
   "outputs": [
    {
     "data": {
      "application/vnd.jupyter.widget-view+json": {
       "model_id": "313ac1defd62413883706957131c4f77",
       "version_major": 2,
       "version_minor": 0
      },
      "text/plain": [
       "  0%|          | 0/15 [00:00<?, ?it/s]"
      ]
     },
     "metadata": {},
     "output_type": "display_data"
    },
    {
     "data": {
      "application/vnd.jupyter.widget-view+json": {
       "model_id": "56575038eb2f4276a2d23914246531ca",
       "version_major": 2,
       "version_minor": 0
      },
      "text/plain": [
       "  0%|          | 0/5000 [00:00<?, ?it/s]"
      ]
     },
     "metadata": {},
     "output_type": "display_data"
    },
    {
     "data": {
      "text/html": [
       "<div>\n",
       "<style scoped>\n",
       "    .dataframe tbody tr th:only-of-type {\n",
       "        vertical-align: middle;\n",
       "    }\n",
       "\n",
       "    .dataframe tbody tr th {\n",
       "        vertical-align: top;\n",
       "    }\n",
       "\n",
       "    .dataframe thead th {\n",
       "        text-align: right;\n",
       "    }\n",
       "</style>\n",
       "<table border=\"1\" class=\"dataframe\">\n",
       "  <thead>\n",
       "    <tr style=\"text-align: right;\">\n",
       "      <th></th>\n",
       "      <th>user_id</th>\n",
       "      <th>item_id</th>\n",
       "      <th>median_sales_hour</th>\n",
       "      <th>median_weekday</th>\n",
       "      <th>mean_visits_interval</th>\n",
       "      <th>mean_check</th>\n",
       "      <th>n_stores</th>\n",
       "      <th>n_items</th>\n",
       "      <th>n_transactions</th>\n",
       "      <th>mean_n_items_basket</th>\n",
       "      <th>...</th>\n",
       "      <th>user_factor_11</th>\n",
       "      <th>user_factor_12</th>\n",
       "      <th>user_factor_13</th>\n",
       "      <th>user_factor_14</th>\n",
       "      <th>user_factor_15</th>\n",
       "      <th>user_factor_16</th>\n",
       "      <th>user_factor_17</th>\n",
       "      <th>user_factor_18</th>\n",
       "      <th>user_factor_19</th>\n",
       "      <th>user_factor_20</th>\n",
       "    </tr>\n",
       "  </thead>\n",
       "  <tbody>\n",
       "    <tr>\n",
       "      <th>0</th>\n",
       "      <td>1</td>\n",
       "      <td>823721</td>\n",
       "      <td>13.0</td>\n",
       "      <td>4.0</td>\n",
       "      <td>NaN</td>\n",
       "      <td>51.962097</td>\n",
       "      <td>94</td>\n",
       "      <td>220</td>\n",
       "      <td>1263</td>\n",
       "      <td>12.629032</td>\n",
       "      <td>...</td>\n",
       "      <td>3.21866</td>\n",
       "      <td>2.24128</td>\n",
       "      <td>2.27597</td>\n",
       "      <td>-1.7781</td>\n",
       "      <td>1.073132</td>\n",
       "      <td>0.912612</td>\n",
       "      <td>2.079721</td>\n",
       "      <td>1.307954</td>\n",
       "      <td>-1.855253</td>\n",
       "      <td>11.981043</td>\n",
       "    </tr>\n",
       "    <tr>\n",
       "      <th>1</th>\n",
       "      <td>1</td>\n",
       "      <td>823990</td>\n",
       "      <td>15.0</td>\n",
       "      <td>6.0</td>\n",
       "      <td>NaN</td>\n",
       "      <td>51.962097</td>\n",
       "      <td>96</td>\n",
       "      <td>220</td>\n",
       "      <td>1263</td>\n",
       "      <td>12.629032</td>\n",
       "      <td>...</td>\n",
       "      <td>3.21866</td>\n",
       "      <td>2.24128</td>\n",
       "      <td>2.27597</td>\n",
       "      <td>-1.7781</td>\n",
       "      <td>1.073132</td>\n",
       "      <td>0.912612</td>\n",
       "      <td>2.079721</td>\n",
       "      <td>1.307954</td>\n",
       "      <td>-1.855253</td>\n",
       "      <td>11.981043</td>\n",
       "    </tr>\n",
       "  </tbody>\n",
       "</table>\n",
       "<p>2 rows × 55 columns</p>\n",
       "</div>"
      ],
      "text/plain": [
       "   user_id  item_id  median_sales_hour  median_weekday  mean_visits_interval  \\\n",
       "0        1   823721               13.0             4.0                   NaN   \n",
       "1        1   823990               15.0             6.0                   NaN   \n",
       "\n",
       "   mean_check  n_stores  n_items  n_transactions  mean_n_items_basket  ...  \\\n",
       "0   51.962097        94      220            1263            12.629032  ...   \n",
       "1   51.962097        96      220            1263            12.629032  ...   \n",
       "\n",
       "   user_factor_11  user_factor_12  user_factor_13  user_factor_14  \\\n",
       "0         3.21866         2.24128         2.27597         -1.7781   \n",
       "1         3.21866         2.24128         2.27597         -1.7781   \n",
       "\n",
       "   user_factor_15  user_factor_16  user_factor_17  user_factor_18  \\\n",
       "0        1.073132        0.912612        2.079721        1.307954   \n",
       "1        1.073132        0.912612        2.079721        1.307954   \n",
       "\n",
       "   user_factor_19  user_factor_20  \n",
       "0       -1.855253       11.981043  \n",
       "1       -1.855253       11.981043  \n",
       "\n",
       "[2 rows x 55 columns]"
      ]
     },
     "execution_count": 93,
     "metadata": {},
     "output_type": "execute_result"
    }
   ],
   "source": [
    "user_item_features = get_user_item_features(data_train_lvl_1)\n",
    "user_item_features.head(2)"
   ]
  },
  {
   "cell_type": "code",
   "execution_count": 94,
   "id": "ede3261d",
   "metadata": {},
   "outputs": [],
   "source": [
    "def get_candidates(data_train_lvl_1, data_train_lvl_2, N, add_to_lvl_2):\n",
    "    recommender = MainRecommender(data_train_lvl_1)\n",
    "\n",
    "    users_lvl_1 = data_train_lvl_1['user_id'].unique()\n",
    "    users_lvl_2 = data_train_lvl_2['user_id'].unique().tolist()\n",
    "    if add_to_lvl_2:\n",
    "        users_lvl_2 += add_to_lvl_2\n",
    "\n",
    "    current_users = list(set(users_lvl_2) & set(users_lvl_1))    \n",
    "    new_users = list(set(users_lvl_2) - set(users_lvl_1))\n",
    "\n",
    "    df = pd.DataFrame(users_lvl_2, columns=['user_id'])\n",
    "    cond_1 = df['user_id'].isin(current_users)\n",
    "    df.loc[cond_1, 'candidates'] = df.loc[cond_1, 'user_id'].apply(\n",
    "        lambda x: recommender.get_own_recommendations(x, N))\n",
    "\n",
    "    if new_users:\n",
    "        cond_2 = df['user_id'].isin(new_users)\n",
    "        df.loc[cond_2, 'candidates'] = df.loc[cond_2, 'user_id'].apply(\n",
    "            lambda x: recommender.overall_top_purchases[:N])\n",
    "        \n",
    "    return df"
   ]
  },
  {
   "cell_type": "code",
   "execution_count": 95,
   "id": "ad6cb4db",
   "metadata": {},
   "outputs": [],
   "source": [
    "def get_targets_lvl_2(data_train_lvl_1, data_train_lvl_2, user_item_features, N, add_to_lvl_2=None):\n",
    "    \n",
    "    users_lvl_2 = get_candidates(data_train_lvl_1, data_train_lvl_2, N, add_to_lvl_2)\n",
    "    \n",
    "    df = pd.DataFrame({'user_id': users_lvl_2['user_id'].values.repeat(N),\n",
    "                       'item_id': np.concatenate(users_lvl_2['candidates'].values)})\n",
    "\n",
    "    targets_lvl_2 = data_train_lvl_2[['user_id', 'item_id']].copy()\n",
    "    targets_lvl_2['target'] = 1 \n",
    "\n",
    "    targets_lvl_2 = df.merge(targets_lvl_2, on=['user_id', 'item_id'], how='left')\n",
    "    targets_lvl_2['target'].fillna(0, inplace= True)\n",
    "    \n",
    "    targets_lvl_2 = targets_lvl_2.merge(item_features, on='item_id', how='left')\n",
    "    targets_lvl_2 = targets_lvl_2.merge(user_features, on='user_id', how='left')\n",
    "    targets_lvl_2 = targets_lvl_2.merge(\n",
    "        user_item_features, on=['user_id', 'item_id'], how='left')\n",
    "    \n",
    "    return targets_lvl_2"
   ]
  },
  {
   "cell_type": "code",
   "execution_count": 96,
   "id": "9daca9a1",
   "metadata": {},
   "outputs": [
    {
     "data": {
      "application/vnd.jupyter.widget-view+json": {
       "model_id": "efd8196839cc4969b4763c925a0b8153",
       "version_major": 2,
       "version_minor": 0
      },
      "text/plain": [
       "  0%|          | 0/15 [00:00<?, ?it/s]"
      ]
     },
     "metadata": {},
     "output_type": "display_data"
    },
    {
     "data": {
      "application/vnd.jupyter.widget-view+json": {
       "model_id": "92fe9344a5d249feac0bc1272daedfd7",
       "version_major": 2,
       "version_minor": 0
      },
      "text/plain": [
       "  0%|          | 0/5001 [00:00<?, ?it/s]"
      ]
     },
     "metadata": {},
     "output_type": "display_data"
    },
    {
     "name": "stdout",
     "output_type": "stream",
     "text": [
      "число пользователей: 2280\n",
      "среднее число покупок: 0.034\n"
     ]
    },
    {
     "data": {
      "text/html": [
       "<div>\n",
       "<style scoped>\n",
       "    .dataframe tbody tr th:only-of-type {\n",
       "        vertical-align: middle;\n",
       "    }\n",
       "\n",
       "    .dataframe tbody tr th {\n",
       "        vertical-align: top;\n",
       "    }\n",
       "\n",
       "    .dataframe thead th {\n",
       "        text-align: right;\n",
       "    }\n",
       "</style>\n",
       "<table border=\"1\" class=\"dataframe\">\n",
       "  <thead>\n",
       "    <tr style=\"text-align: right;\">\n",
       "      <th></th>\n",
       "      <th>user_id</th>\n",
       "      <th>item_id</th>\n",
       "      <th>target</th>\n",
       "      <th>manufacturer</th>\n",
       "      <th>department</th>\n",
       "      <th>brand</th>\n",
       "      <th>commodity_desc</th>\n",
       "      <th>sub_commodity_desc</th>\n",
       "      <th>curr_size_of_product</th>\n",
       "      <th>manufacturer_freq</th>\n",
       "      <th>...</th>\n",
       "      <th>user_factor_11</th>\n",
       "      <th>user_factor_12</th>\n",
       "      <th>user_factor_13</th>\n",
       "      <th>user_factor_14</th>\n",
       "      <th>user_factor_15</th>\n",
       "      <th>user_factor_16</th>\n",
       "      <th>user_factor_17</th>\n",
       "      <th>user_factor_18</th>\n",
       "      <th>user_factor_19</th>\n",
       "      <th>user_factor_20</th>\n",
       "    </tr>\n",
       "  </thead>\n",
       "  <tbody>\n",
       "    <tr>\n",
       "      <th>0</th>\n",
       "      <td>2070</td>\n",
       "      <td>999999</td>\n",
       "      <td>0.0</td>\n",
       "      <td>NaN</td>\n",
       "      <td>NaN</td>\n",
       "      <td>NaN</td>\n",
       "      <td>NaN</td>\n",
       "      <td>NaN</td>\n",
       "      <td>NaN</td>\n",
       "      <td>NaN</td>\n",
       "      <td>...</td>\n",
       "      <td>NaN</td>\n",
       "      <td>NaN</td>\n",
       "      <td>NaN</td>\n",
       "      <td>NaN</td>\n",
       "      <td>NaN</td>\n",
       "      <td>NaN</td>\n",
       "      <td>NaN</td>\n",
       "      <td>NaN</td>\n",
       "      <td>NaN</td>\n",
       "      <td>NaN</td>\n",
       "    </tr>\n",
       "    <tr>\n",
       "      <th>1</th>\n",
       "      <td>2070</td>\n",
       "      <td>1082185</td>\n",
       "      <td>1.0</td>\n",
       "      <td>2.0</td>\n",
       "      <td>PRODUCE</td>\n",
       "      <td>1.0</td>\n",
       "      <td>TROPICAL FRUIT</td>\n",
       "      <td>BANANAS</td>\n",
       "      <td>40 LB</td>\n",
       "      <td>1411.0</td>\n",
       "      <td>...</td>\n",
       "      <td>-0.869849</td>\n",
       "      <td>2.528729</td>\n",
       "      <td>0.963255</td>\n",
       "      <td>10.962255</td>\n",
       "      <td>0.145305</td>\n",
       "      <td>-0.032533</td>\n",
       "      <td>0.349288</td>\n",
       "      <td>-1.793689</td>\n",
       "      <td>1.692278</td>\n",
       "      <td>1.084573</td>\n",
       "    </tr>\n",
       "  </tbody>\n",
       "</table>\n",
       "<p>2 rows × 75 columns</p>\n",
       "</div>"
      ],
      "text/plain": [
       "   user_id  item_id  target  manufacturer department  brand  commodity_desc  \\\n",
       "0     2070   999999     0.0           NaN        NaN    NaN             NaN   \n",
       "1     2070  1082185     1.0           2.0    PRODUCE    1.0  TROPICAL FRUIT   \n",
       "\n",
       "  sub_commodity_desc curr_size_of_product  manufacturer_freq  ...  \\\n",
       "0                NaN                  NaN                NaN  ...   \n",
       "1            BANANAS                40 LB             1411.0  ...   \n",
       "\n",
       "   user_factor_11  user_factor_12  user_factor_13  user_factor_14  \\\n",
       "0             NaN             NaN             NaN             NaN   \n",
       "1       -0.869849        2.528729        0.963255       10.962255   \n",
       "\n",
       "   user_factor_15  user_factor_16  user_factor_17  user_factor_18  \\\n",
       "0             NaN             NaN             NaN             NaN   \n",
       "1        0.145305       -0.032533        0.349288       -1.793689   \n",
       "\n",
       "   user_factor_19  user_factor_20  \n",
       "0             NaN             NaN  \n",
       "1        1.692278        1.084573  \n",
       "\n",
       "[2 rows x 75 columns]"
      ]
     },
     "execution_count": 96,
     "metadata": {},
     "output_type": "execute_result"
    }
   ],
   "source": [
    "N = 500\n",
    "targets_lvl_2 = get_targets_lvl_2(data_train_lvl_1, data_train_lvl_2, user_item_features, N, add_to_lvl_2)\n",
    "\n",
    "print(f'число пользователей: {targets_lvl_2.user_id.nunique()}')\n",
    "print(f'среднее число покупок: {round(targets_lvl_2[\"target\"].mean(), 4)}')\n",
    "\n",
    "targets_lvl_2.head(2)"
   ]
  },
  {
   "cell_type": "markdown",
   "id": "7d01c733",
   "metadata": {},
   "source": [
    "### Отбор признаков"
   ]
  },
  {
   "cell_type": "code",
   "execution_count": 97,
   "id": "5cee0d6f",
   "metadata": {},
   "outputs": [],
   "source": [
    "SELECTED_FEATURES_NAMES = ['brand',\n",
    "                           'manufacturer_freq', 'department_freq', 'commodity_desc_freq',\n",
    "                           'sub_commodity_desc_freq', 'curr_size_of_product_freq',\n",
    "                           'commodity_category',\n",
    "                           'age_desc', 'marital_status_code', 'income_desc', \n",
    "                           'homeowner_desc', 'hh_comp_desc', 'manufacturer', \n",
    "                           'median_sales_hour', 'median_weekday',\n",
    "                           'mean_check', \n",
    "                           'n_stores', 'n_items', 'n_transactions', \n",
    "                           'mean_n_items_basket', 'max_n_items_basket', 'std_n_items_basket',\n",
    "                           'mean_n_item_categories_basket', 'max_n_item_categories_basket', \n",
    "                           'std_n_item_categories_basket',\n",
    "                           'factor_1', 'factor_2', 'factor_3', 'factor_4', 'factor_5',\n",
    "                           'factor_6', 'factor_7', 'factor_8', 'factor_9', 'factor_10',\n",
    "                           'factor_11', 'factor_12', 'factor_13', 'factor_14', 'factor_15',\n",
    "                           'factor_16', 'factor_17', 'factor_18', 'factor_19', 'factor_20',          \n",
    "                           'user_factor_1', 'user_factor_2', 'user_factor_3', 'user_factor_4',\n",
    "                           'user_factor_5', 'user_factor_6', 'user_factor_7', 'user_factor_8',\n",
    "                           'user_factor_9', 'user_factor_10', 'user_factor_11', 'user_factor_12',\n",
    "                           'user_factor_13', 'user_factor_14', 'user_factor_15', 'user_factor_16',\n",
    "                           'user_factor_17', 'user_factor_18', 'user_factor_19', 'user_factor_20',                           \n",
    "                          ]\n",
    "categorical = ['marital_status_code','homeowner_desc', \n",
    "               'hh_comp_desc', 'manufacturer',\n",
    "               'commodity_category'\n",
    "              ]"
   ]
  },
  {
   "cell_type": "code",
   "execution_count": 98,
   "id": "15a41f16",
   "metadata": {},
   "outputs": [],
   "source": [
    "SELECTED_FEATURES_NAMES_cb = [i for i in SELECTED_FEATURES_NAMES if not i in categorical]"
   ]
  },
  {
   "cell_type": "code",
   "execution_count": 99,
   "id": "fe8d658f",
   "metadata": {},
   "outputs": [],
   "source": [
    "def run_model_cb(targets_lvl_2):    \n",
    "    X_train, X_valid, y_train, y_valid = train_test_split(targets_lvl_2[SELECTED_FEATURES_NAMES_cb].fillna(0),\n",
    "                                                          targets_lvl_2[['target']],\n",
    "                                                          test_size=0.2, random_state=16,\n",
    "                                                          stratify=targets_lvl_2[['target']])\n",
    "\n",
    "    dtrain = Pool(data=X_train, label=y_train) #, cat_features=categorical\n",
    "    dvalid = Pool(data=X_valid, label=y_valid) #, cat_features=categorical\n",
    "\n",
    "    params_cb = {\"n_estimators\":5000,\n",
    "                 \"learning_rate\": 0.1,\n",
    "                 \"loss_function\": \"Logloss\",\n",
    "                 \"eval_metric\": \"AUC\",\n",
    "                 \"task_type\": \"CPU\",\n",
    "                 \"max_bin\": 30,\n",
    "                 \"early_stopping_rounds\": 30,\n",
    "                 \"verbose\": 1000,\n",
    "                 \"max_depth\": 10,\n",
    "                 \"l2_leaf_reg\": 80,\n",
    "                 \"thread_count\": 6,\n",
    "                 \"random_seed\": 51} \n",
    "\n",
    "    model_cb = CatBoostClassifier(**params_cb)\n",
    "    model_cb.fit(dtrain, eval_set=[dvalid])\n",
    "\n",
    "    \n",
    "    return model_cb"
   ]
  },
  {
   "cell_type": "code",
   "execution_count": 100,
   "id": "4d592035",
   "metadata": {},
   "outputs": [],
   "source": [
    "def run_model_lgb(targets_lvl_2):\n",
    "    X_train, X_valid, y_train, y_valid = train_test_split(targets_lvl_2[SELECTED_FEATURES_NAMES].fillna(0),\n",
    "                                                          targets_lvl_2[['target']],\n",
    "                                                          test_size=0.2, random_state=16,\n",
    "                                                          stratify=targets_lvl_2[['target']])\n",
    "\n",
    "    dtrain = lgb.Dataset(X_train, y_train, categorical_feature=categorical)\n",
    "    dvalid = lgb.Dataset(X_valid, y_valid, categorical_feature=categorical)\n",
    "\n",
    "    params_lgb = {\"boosting_type\": \"gbdt\",\n",
    "                  \"objective\": \"binary\", \n",
    "                  \"metric\": \"auc\",\n",
    "                  \"num_boost_round\": 10000,\n",
    "                  \"learning_rate\": 0.1,\n",
    "                  \"class_weight\": 'balanced',\n",
    "                  \"max_depth\": 10,\n",
    "                  \"n_estimators\": 5000,\n",
    "                  \"n_jobs\": 6,\n",
    "                  \"seed\": 12} \n",
    "\n",
    "    model_lgb = lgb.train(params=params_lgb,\n",
    "                          train_set=dtrain,  \n",
    "                          valid_sets=[dtrain, dvalid],\n",
    "                          categorical_feature=categorical,\n",
    "                          verbose_eval=1000,\n",
    "                          early_stopping_rounds=30)\n",
    "    \n",
    "    return model_lgb"
   ]
  },
  {
   "cell_type": "code",
   "execution_count": 101,
   "id": "b57c7870",
   "metadata": {},
   "outputs": [
    {
     "name": "stdout",
     "output_type": "stream",
     "text": [
      "[LightGBM] [Warning] Unknown parameter: class_weight\n",
      "[LightGBM] [Warning] Accuracy may be bad since you didn't explicitly set num_leaves OR 2^max_depth > num_leaves. (num_leaves=31).\n",
      "[LightGBM] [Warning] Unknown parameter: class_weight\n",
      "[LightGBM] [Warning] Accuracy may be bad since you didn't explicitly set num_leaves OR 2^max_depth > num_leaves. (num_leaves=31).\n",
      "[LightGBM] [Info] Number of positive: 31255, number of negative: 888853\n",
      "[LightGBM] [Warning] Auto-choosing row-wise multi-threading, the overhead of testing was 0.080952 seconds.\n",
      "You can set `force_row_wise=true` to remove the overhead.\n",
      "And if memory is not enough, you can set `force_col_wise=true`.\n",
      "[LightGBM] [Info] Total Bins 12754\n",
      "[LightGBM] [Info] Number of data points in the train set: 920108, number of used features: 65\n",
      "[LightGBM] [Warning] Unknown parameter: class_weight\n",
      "[LightGBM] [Warning] Accuracy may be bad since you didn't explicitly set num_leaves OR 2^max_depth > num_leaves. (num_leaves=31).\n",
      "[LightGBM] [Info] [binary:BoostFromScore]: pavg=0.033969 -> initscore=-3.347753\n",
      "[LightGBM] [Info] Start training from score -3.347753\n",
      "Training until validation scores don't improve for 30 rounds\n",
      "Early stopping, best iteration is:\n",
      "[682]\ttraining's auc: 0.912574\tvalid_1's auc: 0.89132\n"
     ]
    }
   ],
   "source": [
    "model_lgb = run_model_lgb(targets_lvl_2)\n",
    "# [2426]\ttraining's auc: 0.964429\tvalid_1's auc: 0.896633"
   ]
  },
  {
   "cell_type": "code",
   "execution_count": 102,
   "id": "0614b67b",
   "metadata": {},
   "outputs": [
    {
     "name": "stdout",
     "output_type": "stream",
     "text": [
      "0:\ttest: 0.8339141\tbest: 0.8339141 (0)\ttotal: 338ms\tremaining: 28m 10s\n",
      "1000:\ttest: 0.8851990\tbest: 0.8852002 (999)\ttotal: 4m 52s\tremaining: 19m 28s\n",
      "Stopped by overfitting detector  (30 iterations wait)\n",
      "\n",
      "bestTest = 0.8852317311\n",
      "bestIteration = 1014\n",
      "\n",
      "Shrink model to first 1015 iterations.\n"
     ]
    }
   ],
   "source": [
    "model_cb = run_model_cb(targets_lvl_2)\n",
    "# bestTest = 0.9069283804\n",
    "# bestIteration = 2598"
   ]
  },
  {
   "cell_type": "code",
   "execution_count": 103,
   "id": "a6c0f235",
   "metadata": {},
   "outputs": [],
   "source": [
    "predictions_lgb_train = model_lgb.predict(targets_lvl_2[SELECTED_FEATURES_NAMES].fillna(0))\n",
    "predictions_cb_train = model_cb.predict_proba(targets_lvl_2[SELECTED_FEATURES_NAMES_cb].fillna(0))[:, 1]"
   ]
  },
  {
   "cell_type": "code",
   "execution_count": 104,
   "id": "ebf11bc2",
   "metadata": {},
   "outputs": [
    {
     "data": {
      "text/plain": [
       "0.9080166212914565"
      ]
     },
     "execution_count": 104,
     "metadata": {},
     "output_type": "execute_result"
    }
   ],
   "source": [
    "preds_train = pd.DataFrame(zip(predictions_lgb_train, \n",
    "                               predictions_cb_train),\n",
    "                           columns=['lgb', 'cb']).mean(axis=1).values\n",
    "roc_auc_score(targets_lvl_2['target'], preds_train)\n",
    "# 0.9557067627903868"
   ]
  },
  {
   "cell_type": "markdown",
   "id": "43b2a1c9",
   "metadata": {},
   "source": [
    "### Обработка"
   ]
  },
  {
   "cell_type": "code",
   "execution_count": 105,
   "id": "578b0b26",
   "metadata": {},
   "outputs": [],
   "source": [
    "def get_predictions(targets_lvl_2, raw_predictions, prefix='lgb'): \n",
    "    df = targets_lvl_2[['user_id', 'item_id']]\n",
    "    df['predictions'] = raw_predictions\n",
    "\n",
    "    df = df.groupby(['user_id', 'item_id'])['predictions'].median().reset_index()\n",
    "    df = df.sort_values(['predictions'], ascending=False).groupby(['user_id']).head(5)\n",
    "\n",
    "    df = df.groupby('user_id')['item_id'].unique().reset_index()\n",
    "    df.columns = ['user_id', prefix + '_recommendations']\n",
    "    \n",
    "    return df"
   ]
  },
  {
   "cell_type": "code",
   "execution_count": 106,
   "id": "5ac932b0",
   "metadata": {},
   "outputs": [],
   "source": [
    "def get_results(data_val_lvl_2, targets_lvl_2, preds_lgb, preds_cb, combined_preds):\n",
    "    result = data_val_lvl_2.groupby('user_id')['item_id'].unique().reset_index()\n",
    "    result.columns=['user_id', 'actual']\n",
    "    \n",
    "    prefixes = ['lgb', 'cb', 'cb_lgb']\n",
    "    predictions = [preds_lgb, preds_cb, combined_preds]\n",
    "    \n",
    "    for i, preds in enumerate(predictions):\n",
    "        df = get_predictions(targets_lvl_2, preds, prefixes[i])\n",
    "        result = result.merge(df, on='user_id', how='left')\n",
    "\n",
    "    return result"
   ]
  },
  {
   "cell_type": "code",
   "execution_count": 107,
   "id": "820fa3ad",
   "metadata": {},
   "outputs": [
    {
     "data": {
      "text/html": [
       "<div>\n",
       "<style scoped>\n",
       "    .dataframe tbody tr th:only-of-type {\n",
       "        vertical-align: middle;\n",
       "    }\n",
       "\n",
       "    .dataframe tbody tr th {\n",
       "        vertical-align: top;\n",
       "    }\n",
       "\n",
       "    .dataframe thead th {\n",
       "        text-align: right;\n",
       "    }\n",
       "</style>\n",
       "<table border=\"1\" class=\"dataframe\">\n",
       "  <thead>\n",
       "    <tr style=\"text-align: right;\">\n",
       "      <th></th>\n",
       "      <th>user_id</th>\n",
       "      <th>actual</th>\n",
       "      <th>lgb_recommendations</th>\n",
       "      <th>cb_recommendations</th>\n",
       "      <th>cb_lgb_recommendations</th>\n",
       "    </tr>\n",
       "  </thead>\n",
       "  <tbody>\n",
       "    <tr>\n",
       "      <th>0</th>\n",
       "      <td>1</td>\n",
       "      <td>[821867, 834484, 856942, 865456, 889248, 90795...</td>\n",
       "      <td>[940947, 1082185, 872137, 1082212, 1029743]</td>\n",
       "      <td>[1082185, 872137, 940947, 840361, 865456]</td>\n",
       "      <td>[1082185, 940947, 872137, 840361, 1082212]</td>\n",
       "    </tr>\n",
       "    <tr>\n",
       "      <th>1</th>\n",
       "      <td>3</td>\n",
       "      <td>[835476, 851057, 872021, 878302, 879948, 90963...</td>\n",
       "      <td>[1106523, 1133018, 1053690, 951590, 916381]</td>\n",
       "      <td>[1101010, 1106523, 1076875, 951590, 5569230]</td>\n",
       "      <td>[1106523, 1101010, 951590, 1053690, 916381]</td>\n",
       "    </tr>\n",
       "  </tbody>\n",
       "</table>\n",
       "</div>"
      ],
      "text/plain": [
       "   user_id                                             actual  \\\n",
       "0        1  [821867, 834484, 856942, 865456, 889248, 90795...   \n",
       "1        3  [835476, 851057, 872021, 878302, 879948, 90963...   \n",
       "\n",
       "                           lgb_recommendations  \\\n",
       "0  [940947, 1082185, 872137, 1082212, 1029743]   \n",
       "1  [1106523, 1133018, 1053690, 951590, 916381]   \n",
       "\n",
       "                             cb_recommendations  \\\n",
       "0     [1082185, 872137, 940947, 840361, 865456]   \n",
       "1  [1101010, 1106523, 1076875, 951590, 5569230]   \n",
       "\n",
       "                        cb_lgb_recommendations  \n",
       "0   [1082185, 940947, 872137, 840361, 1082212]  \n",
       "1  [1106523, 1101010, 951590, 1053690, 916381]  "
      ]
     },
     "execution_count": 107,
     "metadata": {},
     "output_type": "execute_result"
    }
   ],
   "source": [
    "result_lvl_2 = get_results(data_val_lvl_2, targets_lvl_2, \n",
    "                           predictions_lgb_train,\n",
    "                           predictions_cb_train, \n",
    "                           preds_train)\n",
    "result_lvl_2.head(2)"
   ]
  },
  {
   "cell_type": "markdown",
   "id": "bbc50840",
   "metadata": {},
   "source": [
    "### Метрики"
   ]
  },
  {
   "cell_type": "code",
   "execution_count": 108,
   "id": "415e6e14",
   "metadata": {},
   "outputs": [
    {
     "data": {
      "text/plain": [
       "0.320666013712047"
      ]
     },
     "execution_count": 108,
     "metadata": {},
     "output_type": "execute_result"
    }
   ],
   "source": [
    "result_lvl_2.apply(lambda row: precision_at_k(row['lgb_recommendations'], row['actual'], 5), axis=1).mean()"
   ]
  },
  {
   "cell_type": "code",
   "execution_count": 109,
   "id": "0e1bdad5",
   "metadata": {},
   "outputs": [
    {
     "data": {
      "text/plain": [
       "0.3420176297747309"
      ]
     },
     "execution_count": 109,
     "metadata": {},
     "output_type": "execute_result"
    }
   ],
   "source": [
    "result_lvl_2.apply(lambda row: precision_at_k(row['cb_recommendations'], row['actual'], 5), axis=1).mean()"
   ]
  },
  {
   "cell_type": "code",
   "execution_count": 110,
   "id": "bb0195c3",
   "metadata": {},
   "outputs": [
    {
     "data": {
      "text/plain": [
       "0.3432908912830562"
      ]
     },
     "execution_count": 110,
     "metadata": {},
     "output_type": "execute_result"
    }
   ],
   "source": [
    "result_lvl_2.apply(lambda row: precision_at_k(row['cb_lgb_recommendations'], row['actual'], 5), axis=1).mean()"
   ]
  },
  {
   "cell_type": "markdown",
   "id": "680e7cd0",
   "metadata": {},
   "source": [
    "### Построение прогнозов"
   ]
  },
  {
   "cell_type": "code",
   "execution_count": 111,
   "id": "620c9cf4",
   "metadata": {},
   "outputs": [],
   "source": [
    "validation_weeks = 6\n",
    "data_train = data[data['week_no'] < data['week_no'].max() - validation_weeks]\n",
    "data_valid = data[data['week_no'] >= data['week_no'].max() - validation_weeks]"
   ]
  },
  {
   "cell_type": "code",
   "execution_count": 112,
   "id": "fbd66348",
   "metadata": {},
   "outputs": [
    {
     "data": {
      "text/plain": [
       "([], [2325], 75)"
      ]
     },
     "execution_count": 112,
     "metadata": {},
     "output_type": "execute_result"
    }
   ],
   "source": [
    "users_lvl_1 = data_train.user_id.unique()\n",
    "users_lvl_2 = data_valid.user_id.unique()\n",
    "users_lvl_3 = test.user_id.unique()\n",
    "\n",
    "new_users_lvl_2 = list(set(users_lvl_2) - set(users_lvl_1))\n",
    "new_users_lvl_3 = list(set(users_lvl_3) - (set(users_lvl_1) | set(users_lvl_2)))\n",
    "\n",
    "add_to_lvl_2 = list(set(users_lvl_3) - (set(users_lvl_2)))\n",
    "\n",
    "new_users_lvl_2, new_users_lvl_3, len(add_to_lvl_2)"
   ]
  },
  {
   "cell_type": "code",
   "execution_count": 113,
   "id": "47949952",
   "metadata": {},
   "outputs": [
    {
     "name": "stdout",
     "output_type": "stream",
     "text": [
      "Decreased # items from 89051 to 5001\n"
     ]
    }
   ],
   "source": [
    "n_items_before = data['item_id'].nunique()\n",
    "data_train = pre_filter_items(data_train, item_features=item_features, take_n_popular=5000)\n",
    "n_items_after = data_train['item_id'].nunique()\n",
    "print('Decreased # items from {} to {}'.format(n_items_before, n_items_after))"
   ]
  },
  {
   "cell_type": "code",
   "execution_count": 114,
   "id": "73135786",
   "metadata": {},
   "outputs": [
    {
     "data": {
      "application/vnd.jupyter.widget-view+json": {
       "model_id": "5022a456556c44a19be5125c973489e4",
       "version_major": 2,
       "version_minor": 0
      },
      "text/plain": [
       "  0%|          | 0/15 [00:00<?, ?it/s]"
      ]
     },
     "metadata": {},
     "output_type": "display_data"
    },
    {
     "data": {
      "application/vnd.jupyter.widget-view+json": {
       "model_id": "9bac93b5e7df464cbb880f802629538d",
       "version_major": 2,
       "version_minor": 0
      },
      "text/plain": [
       "  0%|          | 0/5000 [00:00<?, ?it/s]"
      ]
     },
     "metadata": {},
     "output_type": "display_data"
    },
    {
     "data": {
      "text/html": [
       "<div>\n",
       "<style scoped>\n",
       "    .dataframe tbody tr th:only-of-type {\n",
       "        vertical-align: middle;\n",
       "    }\n",
       "\n",
       "    .dataframe tbody tr th {\n",
       "        vertical-align: top;\n",
       "    }\n",
       "\n",
       "    .dataframe thead th {\n",
       "        text-align: right;\n",
       "    }\n",
       "</style>\n",
       "<table border=\"1\" class=\"dataframe\">\n",
       "  <thead>\n",
       "    <tr style=\"text-align: right;\">\n",
       "      <th></th>\n",
       "      <th>user_id</th>\n",
       "      <th>item_id</th>\n",
       "      <th>median_sales_hour</th>\n",
       "      <th>median_weekday</th>\n",
       "      <th>mean_visits_interval</th>\n",
       "      <th>mean_check</th>\n",
       "      <th>n_stores</th>\n",
       "      <th>n_items</th>\n",
       "      <th>n_transactions</th>\n",
       "      <th>mean_n_items_basket</th>\n",
       "      <th>...</th>\n",
       "      <th>user_factor_11</th>\n",
       "      <th>user_factor_12</th>\n",
       "      <th>user_factor_13</th>\n",
       "      <th>user_factor_14</th>\n",
       "      <th>user_factor_15</th>\n",
       "      <th>user_factor_16</th>\n",
       "      <th>user_factor_17</th>\n",
       "      <th>user_factor_18</th>\n",
       "      <th>user_factor_19</th>\n",
       "      <th>user_factor_20</th>\n",
       "    </tr>\n",
       "  </thead>\n",
       "  <tbody>\n",
       "    <tr>\n",
       "      <th>0</th>\n",
       "      <td>1</td>\n",
       "      <td>823721</td>\n",
       "      <td>13.0</td>\n",
       "      <td>4.0</td>\n",
       "      <td>NaN</td>\n",
       "      <td>53.097188</td>\n",
       "      <td>95</td>\n",
       "      <td>227</td>\n",
       "      <td>1328</td>\n",
       "      <td>12.875</td>\n",
       "      <td>...</td>\n",
       "      <td>-11.258902</td>\n",
       "      <td>1.792079</td>\n",
       "      <td>0.27262</td>\n",
       "      <td>1.26605</td>\n",
       "      <td>2.977834</td>\n",
       "      <td>-9.3921</td>\n",
       "      <td>-4.813135</td>\n",
       "      <td>2.912564</td>\n",
       "      <td>6.763792</td>\n",
       "      <td>5.629663</td>\n",
       "    </tr>\n",
       "    <tr>\n",
       "      <th>1</th>\n",
       "      <td>1</td>\n",
       "      <td>823990</td>\n",
       "      <td>15.0</td>\n",
       "      <td>6.0</td>\n",
       "      <td>NaN</td>\n",
       "      <td>53.097188</td>\n",
       "      <td>96</td>\n",
       "      <td>227</td>\n",
       "      <td>1328</td>\n",
       "      <td>12.875</td>\n",
       "      <td>...</td>\n",
       "      <td>-11.258902</td>\n",
       "      <td>1.792079</td>\n",
       "      <td>0.27262</td>\n",
       "      <td>1.26605</td>\n",
       "      <td>2.977834</td>\n",
       "      <td>-9.3921</td>\n",
       "      <td>-4.813135</td>\n",
       "      <td>2.912564</td>\n",
       "      <td>6.763792</td>\n",
       "      <td>5.629663</td>\n",
       "    </tr>\n",
       "  </tbody>\n",
       "</table>\n",
       "<p>2 rows × 55 columns</p>\n",
       "</div>"
      ],
      "text/plain": [
       "   user_id  item_id  median_sales_hour  median_weekday  mean_visits_interval  \\\n",
       "0        1   823721               13.0             4.0                   NaN   \n",
       "1        1   823990               15.0             6.0                   NaN   \n",
       "\n",
       "   mean_check  n_stores  n_items  n_transactions  mean_n_items_basket  ...  \\\n",
       "0   53.097188        95      227            1328               12.875  ...   \n",
       "1   53.097188        96      227            1328               12.875  ...   \n",
       "\n",
       "   user_factor_11  user_factor_12  user_factor_13  user_factor_14  \\\n",
       "0      -11.258902        1.792079         0.27262         1.26605   \n",
       "1      -11.258902        1.792079         0.27262         1.26605   \n",
       "\n",
       "   user_factor_15  user_factor_16  user_factor_17  user_factor_18  \\\n",
       "0        2.977834         -9.3921       -4.813135        2.912564   \n",
       "1        2.977834         -9.3921       -4.813135        2.912564   \n",
       "\n",
       "   user_factor_19  user_factor_20  \n",
       "0        6.763792        5.629663  \n",
       "1        6.763792        5.629663  \n",
       "\n",
       "[2 rows x 55 columns]"
      ]
     },
     "execution_count": 114,
     "metadata": {},
     "output_type": "execute_result"
    }
   ],
   "source": [
    "user_item_features = get_user_item_features(data_train)\n",
    "user_item_features.head(2)"
   ]
  },
  {
   "cell_type": "code",
   "execution_count": 115,
   "id": "458ea176",
   "metadata": {},
   "outputs": [
    {
     "data": {
      "application/vnd.jupyter.widget-view+json": {
       "model_id": "b85a1b26c6054a80ab1ddbb4a6acbdcc",
       "version_major": 2,
       "version_minor": 0
      },
      "text/plain": [
       "  0%|          | 0/15 [00:00<?, ?it/s]"
      ]
     },
     "metadata": {},
     "output_type": "display_data"
    },
    {
     "data": {
      "application/vnd.jupyter.widget-view+json": {
       "model_id": "14dac9430e354e1aa95b05649c7b1879",
       "version_major": 2,
       "version_minor": 0
      },
      "text/plain": [
       "  0%|          | 0/5001 [00:00<?, ?it/s]"
      ]
     },
     "metadata": {},
     "output_type": "display_data"
    },
    {
     "name": "stdout",
     "output_type": "stream",
     "text": [
      "число пользователей: 2272\n",
      "среднее число покупок: 0.0415\n"
     ]
    },
    {
     "data": {
      "text/html": [
       "<div>\n",
       "<style scoped>\n",
       "    .dataframe tbody tr th:only-of-type {\n",
       "        vertical-align: middle;\n",
       "    }\n",
       "\n",
       "    .dataframe tbody tr th {\n",
       "        vertical-align: top;\n",
       "    }\n",
       "\n",
       "    .dataframe thead th {\n",
       "        text-align: right;\n",
       "    }\n",
       "</style>\n",
       "<table border=\"1\" class=\"dataframe\">\n",
       "  <thead>\n",
       "    <tr style=\"text-align: right;\">\n",
       "      <th></th>\n",
       "      <th>user_id</th>\n",
       "      <th>item_id</th>\n",
       "      <th>target</th>\n",
       "      <th>manufacturer</th>\n",
       "      <th>department</th>\n",
       "      <th>brand</th>\n",
       "      <th>commodity_desc</th>\n",
       "      <th>sub_commodity_desc</th>\n",
       "      <th>curr_size_of_product</th>\n",
       "      <th>manufacturer_freq</th>\n",
       "      <th>...</th>\n",
       "      <th>user_factor_11</th>\n",
       "      <th>user_factor_12</th>\n",
       "      <th>user_factor_13</th>\n",
       "      <th>user_factor_14</th>\n",
       "      <th>user_factor_15</th>\n",
       "      <th>user_factor_16</th>\n",
       "      <th>user_factor_17</th>\n",
       "      <th>user_factor_18</th>\n",
       "      <th>user_factor_19</th>\n",
       "      <th>user_factor_20</th>\n",
       "    </tr>\n",
       "  </thead>\n",
       "  <tbody>\n",
       "    <tr>\n",
       "      <th>0</th>\n",
       "      <td>84</td>\n",
       "      <td>999999</td>\n",
       "      <td>0.0</td>\n",
       "      <td>NaN</td>\n",
       "      <td>NaN</td>\n",
       "      <td>NaN</td>\n",
       "      <td>NaN</td>\n",
       "      <td>NaN</td>\n",
       "      <td>NaN</td>\n",
       "      <td>NaN</td>\n",
       "      <td>...</td>\n",
       "      <td>NaN</td>\n",
       "      <td>NaN</td>\n",
       "      <td>NaN</td>\n",
       "      <td>NaN</td>\n",
       "      <td>NaN</td>\n",
       "      <td>NaN</td>\n",
       "      <td>NaN</td>\n",
       "      <td>NaN</td>\n",
       "      <td>NaN</td>\n",
       "      <td>NaN</td>\n",
       "    </tr>\n",
       "    <tr>\n",
       "      <th>1</th>\n",
       "      <td>84</td>\n",
       "      <td>1082185</td>\n",
       "      <td>1.0</td>\n",
       "      <td>2.0</td>\n",
       "      <td>PRODUCE</td>\n",
       "      <td>1.0</td>\n",
       "      <td>TROPICAL FRUIT</td>\n",
       "      <td>BANANAS</td>\n",
       "      <td>40 LB</td>\n",
       "      <td>1411.0</td>\n",
       "      <td>...</td>\n",
       "      <td>1.923941</td>\n",
       "      <td>-2.083421</td>\n",
       "      <td>3.708319</td>\n",
       "      <td>-1.21812</td>\n",
       "      <td>1.018669</td>\n",
       "      <td>-0.066128</td>\n",
       "      <td>0.885814</td>\n",
       "      <td>2.215996</td>\n",
       "      <td>-2.381923</td>\n",
       "      <td>1.14482</td>\n",
       "    </tr>\n",
       "  </tbody>\n",
       "</table>\n",
       "<p>2 rows × 75 columns</p>\n",
       "</div>"
      ],
      "text/plain": [
       "   user_id  item_id  target  manufacturer department  brand  commodity_desc  \\\n",
       "0       84   999999     0.0           NaN        NaN    NaN             NaN   \n",
       "1       84  1082185     1.0           2.0    PRODUCE    1.0  TROPICAL FRUIT   \n",
       "\n",
       "  sub_commodity_desc curr_size_of_product  manufacturer_freq  ...  \\\n",
       "0                NaN                  NaN                NaN  ...   \n",
       "1            BANANAS                40 LB             1411.0  ...   \n",
       "\n",
       "   user_factor_11  user_factor_12  user_factor_13  user_factor_14  \\\n",
       "0             NaN             NaN             NaN             NaN   \n",
       "1        1.923941       -2.083421        3.708319        -1.21812   \n",
       "\n",
       "   user_factor_15  user_factor_16  user_factor_17  user_factor_18  \\\n",
       "0             NaN             NaN             NaN             NaN   \n",
       "1        1.018669       -0.066128        0.885814        2.215996   \n",
       "\n",
       "   user_factor_19  user_factor_20  \n",
       "0             NaN             NaN  \n",
       "1       -2.381923         1.14482  \n",
       "\n",
       "[2 rows x 75 columns]"
      ]
     },
     "execution_count": 115,
     "metadata": {},
     "output_type": "execute_result"
    }
   ],
   "source": [
    "targets_test = get_targets_lvl_2(data_train, data_valid, user_item_features, N, add_to_lvl_2)\n",
    "\n",
    "print(f'число пользователей: {targets_test.user_id.nunique()}')\n",
    "print(f'среднее число покупок: {round(targets_test[\"target\"].mean(), 4)}')\n",
    "\n",
    "targets_test.head(2)"
   ]
  },
  {
   "cell_type": "code",
   "execution_count": 116,
   "id": "626080dc",
   "metadata": {},
   "outputs": [
    {
     "name": "stdout",
     "output_type": "stream",
     "text": [
      "[LightGBM] [Warning] Unknown parameter: class_weight\n",
      "[LightGBM] [Warning] Accuracy may be bad since you didn't explicitly set num_leaves OR 2^max_depth > num_leaves. (num_leaves=31).\n",
      "[LightGBM] [Warning] Unknown parameter: class_weight\n",
      "[LightGBM] [Warning] Accuracy may be bad since you didn't explicitly set num_leaves OR 2^max_depth > num_leaves. (num_leaves=31).\n",
      "[LightGBM] [Info] Number of positive: 38210, number of negative: 881593\n",
      "[LightGBM] [Warning] Auto-choosing row-wise multi-threading, the overhead of testing was 0.081552 seconds.\n",
      "You can set `force_row_wise=true` to remove the overhead.\n",
      "And if memory is not enough, you can set `force_col_wise=true`.\n",
      "[LightGBM] [Info] Total Bins 12754\n",
      "[LightGBM] [Info] Number of data points in the train set: 919803, number of used features: 65\n",
      "[LightGBM] [Warning] Unknown parameter: class_weight\n",
      "[LightGBM] [Warning] Accuracy may be bad since you didn't explicitly set num_leaves OR 2^max_depth > num_leaves. (num_leaves=31).\n",
      "[LightGBM] [Info] [binary:BoostFromScore]: pavg=0.041542 -> initscore=-3.138633\n",
      "[LightGBM] [Info] Start training from score -3.138633\n",
      "Training until validation scores don't improve for 30 rounds\n",
      "Early stopping, best iteration is:\n",
      "[815]\ttraining's auc: 0.910833\tvalid_1's auc: 0.887721\n"
     ]
    }
   ],
   "source": [
    "model_lgb = run_model_lgb(targets_test) "
   ]
  },
  {
   "cell_type": "code",
   "execution_count": 117,
   "id": "1da02e60",
   "metadata": {},
   "outputs": [
    {
     "name": "stdout",
     "output_type": "stream",
     "text": [
      "0:\ttest: 0.8292587\tbest: 0.8292587 (0)\ttotal: 332ms\tremaining: 27m 38s\n",
      "1000:\ttest: 0.8833774\tbest: 0.8833940 (998)\ttotal: 4m 51s\tremaining: 19m 24s\n",
      "Stopped by overfitting detector  (30 iterations wait)\n",
      "\n",
      "bestTest = 0.8834198843\n",
      "bestIteration = 1033\n",
      "\n",
      "Shrink model to first 1034 iterations.\n"
     ]
    }
   ],
   "source": [
    "model_cb = run_model_cb(targets_test) "
   ]
  },
  {
   "cell_type": "code",
   "execution_count": 118,
   "id": "17804b7a",
   "metadata": {},
   "outputs": [],
   "source": [
    "predictions_lgb_test = model_lgb.predict(targets_test[SELECTED_FEATURES_NAMES].fillna(0))\n",
    "predictions_cb_test = model_cb.predict_proba(targets_test[SELECTED_FEATURES_NAMES_cb].fillna(0))[:, 1]"
   ]
  },
  {
   "cell_type": "code",
   "execution_count": 119,
   "id": "6148cb35",
   "metadata": {},
   "outputs": [
    {
     "data": {
      "text/plain": [
       "0.9059982291258616"
      ]
     },
     "execution_count": 119,
     "metadata": {},
     "output_type": "execute_result"
    }
   ],
   "source": [
    "preds_test = pd.DataFrame(zip(predictions_lgb_test, predictions_cb_test),columns=['lgb', 'cb']).mean(axis=1).values\n",
    "roc_auc_score(targets_test['target'], preds_test)"
   ]
  },
  {
   "cell_type": "markdown",
   "id": "293f820e",
   "metadata": {},
   "source": [
    "### Обработка"
   ]
  },
  {
   "cell_type": "code",
   "execution_count": 120,
   "id": "5b1fbcf8",
   "metadata": {},
   "outputs": [
    {
     "data": {
      "text/html": [
       "<div>\n",
       "<style scoped>\n",
       "    .dataframe tbody tr th:only-of-type {\n",
       "        vertical-align: middle;\n",
       "    }\n",
       "\n",
       "    .dataframe tbody tr th {\n",
       "        vertical-align: top;\n",
       "    }\n",
       "\n",
       "    .dataframe thead th {\n",
       "        text-align: right;\n",
       "    }\n",
       "</style>\n",
       "<table border=\"1\" class=\"dataframe\">\n",
       "  <thead>\n",
       "    <tr style=\"text-align: right;\">\n",
       "      <th></th>\n",
       "      <th>user_id</th>\n",
       "      <th>actual</th>\n",
       "      <th>lgb_recommendations</th>\n",
       "      <th>cb_recommendations</th>\n",
       "      <th>cb_lgb_recommendations</th>\n",
       "    </tr>\n",
       "  </thead>\n",
       "  <tbody>\n",
       "    <tr>\n",
       "      <th>0</th>\n",
       "      <td>1</td>\n",
       "      <td>[880007, 883616, 931136, 938004, 940947, 94726...</td>\n",
       "      <td>[1082185, 995242, 940947, 1029743, 1082212]</td>\n",
       "      <td>[1082185, 940947, 995242, 979707, 1082212]</td>\n",
       "      <td>[1082185, 995242, 940947, 979707, 1082212]</td>\n",
       "    </tr>\n",
       "    <tr>\n",
       "      <th>1</th>\n",
       "      <td>2</td>\n",
       "      <td>[820165, 820291, 826784, 826835, 829009, 85784...</td>\n",
       "      <td>[1106523, 1133018, 5569230, 1053690, 1075368]</td>\n",
       "      <td>[1106523, 1133018, 5569230, 1075368, 1053690]</td>\n",
       "      <td>[1106523, 1133018, 5569230, 1075368, 1053690]</td>\n",
       "    </tr>\n",
       "  </tbody>\n",
       "</table>\n",
       "</div>"
      ],
      "text/plain": [
       "   user_id                                             actual  \\\n",
       "0        1  [880007, 883616, 931136, 938004, 940947, 94726...   \n",
       "1        2  [820165, 820291, 826784, 826835, 829009, 85784...   \n",
       "\n",
       "                             lgb_recommendations  \\\n",
       "0    [1082185, 995242, 940947, 1029743, 1082212]   \n",
       "1  [1106523, 1133018, 5569230, 1053690, 1075368]   \n",
       "\n",
       "                              cb_recommendations  \\\n",
       "0     [1082185, 940947, 995242, 979707, 1082212]   \n",
       "1  [1106523, 1133018, 5569230, 1075368, 1053690]   \n",
       "\n",
       "                          cb_lgb_recommendations  \n",
       "0     [1082185, 995242, 940947, 979707, 1082212]  \n",
       "1  [1106523, 1133018, 5569230, 1075368, 1053690]  "
      ]
     },
     "execution_count": 120,
     "metadata": {},
     "output_type": "execute_result"
    }
   ],
   "source": [
    "result_test = get_results(test, targets_test, \n",
    "                           predictions_lgb_test,\n",
    "                           predictions_cb_test, \n",
    "                           preds_test)\n",
    "result_test.head(2)"
   ]
  },
  {
   "cell_type": "code",
   "execution_count": 121,
   "id": "a3426d2b",
   "metadata": {},
   "outputs": [
    {
     "data": {
      "text/plain": [
       "0.3001591511936328"
      ]
     },
     "execution_count": 121,
     "metadata": {},
     "output_type": "execute_result"
    }
   ],
   "source": [
    "result_test.apply(lambda row: precision_at_k(row['lgb_recommendations'], row['actual'], 5), axis=1).mean()"
   ]
  },
  {
   "cell_type": "code",
   "execution_count": 122,
   "id": "eba1fcc3",
   "metadata": {},
   "outputs": [
    {
     "data": {
      "text/plain": [
       "0.3230769230769231"
      ]
     },
     "execution_count": 122,
     "metadata": {},
     "output_type": "execute_result"
    }
   ],
   "source": [
    "result_test.apply(lambda row: precision_at_k(row['cb_recommendations'], row['actual'], 5), axis=1).mean()"
   ]
  },
  {
   "cell_type": "code",
   "execution_count": 123,
   "id": "9bf1a511",
   "metadata": {},
   "outputs": [
    {
     "data": {
      "text/plain": [
       "0.3191511936339521"
      ]
     },
     "execution_count": 123,
     "metadata": {},
     "output_type": "execute_result"
    }
   ],
   "source": [
    "result_test.apply(lambda row: precision_at_k(row['cb_lgb_recommendations'], row['actual'], 5), axis=1).mean()"
   ]
  },
  {
   "cell_type": "code",
   "execution_count": 124,
   "id": "1ff66bec",
   "metadata": {},
   "outputs": [
    {
     "data": {
      "text/html": [
       "<div>\n",
       "<style scoped>\n",
       "    .dataframe tbody tr th:only-of-type {\n",
       "        vertical-align: middle;\n",
       "    }\n",
       "\n",
       "    .dataframe tbody tr th {\n",
       "        vertical-align: top;\n",
       "    }\n",
       "\n",
       "    .dataframe thead th {\n",
       "        text-align: right;\n",
       "    }\n",
       "</style>\n",
       "<table border=\"1\" class=\"dataframe\">\n",
       "  <thead>\n",
       "    <tr style=\"text-align: right;\">\n",
       "      <th></th>\n",
       "      <th>user_id</th>\n",
       "      <th>cb_recommendations</th>\n",
       "    </tr>\n",
       "  </thead>\n",
       "  <tbody>\n",
       "    <tr>\n",
       "      <th>0</th>\n",
       "      <td>1</td>\n",
       "      <td>[1082185, 940947, 995242, 979707, 1082212]</td>\n",
       "    </tr>\n",
       "    <tr>\n",
       "      <th>1</th>\n",
       "      <td>2</td>\n",
       "      <td>[1106523, 1133018, 5569230, 1075368, 1053690]</td>\n",
       "    </tr>\n",
       "  </tbody>\n",
       "</table>\n",
       "</div>"
      ],
      "text/plain": [
       "   user_id                             cb_recommendations\n",
       "0        1     [1082185, 940947, 995242, 979707, 1082212]\n",
       "1        2  [1106523, 1133018, 5569230, 1075368, 1053690]"
      ]
     },
     "execution_count": 124,
     "metadata": {},
     "output_type": "execute_result"
    }
   ],
   "source": [
    "df = result_test[['user_id', 'cb_recommendations']].copy()\n",
    "df.to_csv('predictions.csv', index=False)\n",
    "df.head(2)"
   ]
  },
  {
   "cell_type": "code",
   "execution_count": 125,
   "id": "186e3d3c",
   "metadata": {},
   "outputs": [],
   "source": [
    "models = [model_cb, model_lgb]\n",
    "for i, name in enumerate(['model_cb.pkl', 'model_lgb.pkl']):\n",
    "    filename = name\n",
    "    pickle.dump(models[i], open(filename, 'wb'))"
   ]
  },
  {
   "cell_type": "code",
   "execution_count": 126,
   "id": "adb083e9",
   "metadata": {},
   "outputs": [],
   "source": [
    "targets_test.to_csv('targets_test.csv')"
   ]
  }
 ],
 "metadata": {
  "kernelspec": {
   "display_name": "Python 3 (ipykernel)",
   "language": "python",
   "name": "python3"
  },
  "language_info": {
   "codemirror_mode": {
    "name": "ipython",
    "version": 3
   },
   "file_extension": ".py",
   "mimetype": "text/x-python",
   "name": "python",
   "nbconvert_exporter": "python",
   "pygments_lexer": "ipython3",
   "version": "3.9.13"
  }
 },
 "nbformat": 4,
 "nbformat_minor": 5
}
